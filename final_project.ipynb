{
 "cells": [
  {
   "cell_type": "markdown",
   "id": "9b01160d-20cd-48f1-b43f-99dacbd437bc",
   "metadata": {},
   "source": [
    "## CS3110 Final Project\n",
    "\n",
    "Jack Giuliani & Alex Shapovalov\n",
    "\n",
    "Write description of the project here"
   ]
  },
  {
   "cell_type": "code",
   "execution_count": 4,
   "id": "4ac75c84-24fd-4dfd-a146-6aab703f2661",
   "metadata": {},
   "outputs": [],
   "source": [
    "# Base code\n",
    "\n",
    "import pandas as pd\n",
    "import numpy as np\n",
    "import matplotlib.pyplot as plt\n",
    "\n",
    "def laplace_mech(v, sensitivity, epsilon):\n",
    "    return v + np.random.laplace(loc=0, scale=sensitivity / epsilon)\n",
    "\n",
    "def gaussian_mech(v, sensitivity, epsilon, delta):\n",
    "    return v + np.random.normal(loc=0, scale=sensitivity * np.sqrt(2*np.log(1.25/delta)) / epsilon)\n",
    "\n",
    "def is_k_anonymous(k, qis, df):\n",
    "    return df[qis].value_counts().min() >= k\n",
    "\n",
    "data = pd.read_csv('patients.csv')"
   ]
  },
  {
   "cell_type": "code",
   "execution_count": 6,
   "id": "e2760f9c-5691-4a81-9de9-18aec9faa317",
   "metadata": {},
   "outputs": [],
   "source": [
    "# 1. Laplace for healthcare expenses and healhcare coverage here:"
   ]
  },
  {
   "cell_type": "code",
   "execution_count": null,
   "id": "83fb9dd3-a875-4aa8-8f6a-4d9e0fedf7f2",
   "metadata": {},
   "outputs": [],
   "source": [
    "# 2. Guassian for healthcare expenses and healthcare coverage here:"
   ]
  },
  {
   "cell_type": "code",
   "execution_count": null,
   "id": "f95ee3e8-aca2-418a-a260-cbd605be3eb7",
   "metadata": {},
   "outputs": [],
   "source": [
    "# 3. Comparison between laplace and gaussian"
   ]
  },
  {
   "cell_type": "code",
   "execution_count": null,
   "id": "a3b6548b-368b-4582-9c3a-a4dcb820eb54",
   "metadata": {},
   "outputs": [],
   "source": [
    "# 4. Create k-anonymous address data here"
   ]
  },
  {
   "cell_type": "code",
   "execution_count": null,
   "id": "6e5e6d93-6a95-485b-a0ff-98b3d2d545bf",
   "metadata": {},
   "outputs": [],
   "source": [
    "# 5. Perform a linkage attack"
   ]
  },
  {
   "cell_type": "code",
   "execution_count": null,
   "id": "a0e0b138-8d1f-4858-9ffb-981ab0fb09f9",
   "metadata": {},
   "outputs": [],
   "source": [
    "# 6. Propose test release"
   ]
  },
  {
   "cell_type": "code",
   "execution_count": null,
   "id": "bd1ec231-332e-460e-b65c-89f362a4dc71",
   "metadata": {},
   "outputs": [],
   "source": [
    "# 7. Gradient descent"
   ]
  }
 ],
 "metadata": {
  "kernelspec": {
   "display_name": "Python 3 (ipykernel)",
   "language": "python",
   "name": "python3"
  },
  "language_info": {
   "codemirror_mode": {
    "name": "ipython",
    "version": 3
   },
   "file_extension": ".py",
   "mimetype": "text/x-python",
   "name": "python",
   "nbconvert_exporter": "python",
   "pygments_lexer": "ipython3",
   "version": "3.10.10"
  }
 },
 "nbformat": 4,
 "nbformat_minor": 5
}
