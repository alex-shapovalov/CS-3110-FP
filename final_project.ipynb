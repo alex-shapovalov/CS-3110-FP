{
 "cells": [
  {
   "cell_type": "markdown",
   "id": "9b01160d-20cd-48f1-b43f-99dacbd437bc",
   "metadata": {},
   "source": [
    "## CS3110 Final Project\n",
    "\n",
    "Jack Giuliani & Alex Shapovalov\n",
    "\n",
    "Write description of the project here"
   ]
  },
  {
   "cell_type": "code",
   "execution_count": 25,
   "id": "4ac75c84-24fd-4dfd-a146-6aab703f2661",
   "metadata": {},
   "outputs": [
    {
     "name": "stdout",
     "output_type": "stream",
     "text": [
      "The data: \n",
      "                                     Id   BIRTHDATE DEATHDATE          SSN  \\\n",
      "0  b9c610cd-28a6-4636-ccb6-c7a0d2a4cb85  2019-02-17       NaN  999-65-3251   \n",
      "1  c1f1fcaa-82fd-d5b7-3544-c8f9708b06a8  2005-07-04       NaN  999-49-3323   \n",
      "2  339144f8-50e1-633e-a013-f361391c4cff  1998-05-11       NaN  999-10-8743   \n",
      "3  d488232e-bf14-4bed-08c0-a82f34b6a197  2003-01-28       NaN  999-56-6057   \n",
      "4  217f95a3-4e10-bd5d-fb67-0cfb5e8ba075  1993-12-23       NaN  999-91-4320   \n",
      "\n",
      "     DRIVERS    PASSPORT PREFIX       FIRST            LAST SUFFIX  ...  \\\n",
      "0        NaN         NaN    NaN    Damon455      Langosh790    NaN  ...   \n",
      "1  S99941126         NaN    NaN       Thi53       Wunsch504    NaN  ...   \n",
      "2  S99996708  X75063318X    Mr.      Chi716  Greenfelder433    NaN  ...   \n",
      "3  S99929424         NaN    Ms.  Phillis443       Walter473    NaN  ...   \n",
      "4  S99991143  X44132498X    Mr.  Jerrold404       Herzog843    NaN  ...   \n",
      "\n",
      "                         BIRTHPLACE                           ADDRESS  \\\n",
      "0  Middleborough  Massachusetts  US            620 Lynch Tunnel Apt 0   \n",
      "1        Danvers  Massachusetts  US       972 Tillman Branch Suite 48   \n",
      "2     Athens  Athens Prefecture  GR  1060 Bernhard Crossroad Suite 15   \n",
      "3         Boston  Massachusetts  US               677 Ritchie Terrace   \n",
      "4         Boston  Massachusetts  US                276 Bernier Branch   \n",
      "\n",
      "          CITY          STATE           COUNTY     ZIP        LAT        LON  \\\n",
      "0  Springfield  Massachusetts   Hampden County  1104.0  42.080389 -72.480431   \n",
      "1   Bellingham  Massachusetts   Norfolk County     NaN  42.035213 -71.482519   \n",
      "2       Boston  Massachusetts   Suffolk County  2131.0  42.292557 -71.061160   \n",
      "3      Hingham  Massachusetts  Plymouth County  2043.0  42.200491 -70.916076   \n",
      "4       Revere  Massachusetts   Suffolk County     NaN  42.381875 -70.999286   \n",
      "\n",
      "  HEALTHCARE_EXPENSES HEALTHCARE_COVERAGE  \n",
      "0           9039.1645           7964.1255  \n",
      "1         402723.4150          14064.1350  \n",
      "2         571935.8725            787.5375  \n",
      "3         582557.8030         104782.2070  \n",
      "4         475826.8550          18067.0950  \n",
      "\n",
      "[5 rows x 25 columns]\n"
     ]
    }
   ],
   "source": [
    "# Base code from class\n",
    "\n",
    "import pandas as pd\n",
    "import numpy as np\n",
    "import matplotlib.pyplot as plt\n",
    "\n",
    "def laplace_mech(v, sensitivity, epsilon):\n",
    "    return v + np.random.laplace(loc=0, scale=sensitivity / epsilon)\n",
    "\n",
    "def gaussian_mech(v, sensitivity, epsilon, delta):\n",
    "    return v + np.random.normal(loc=0, scale=sensitivity * np.sqrt(2*np.log(1.25/delta)) / epsilon)\n",
    "\n",
    "def is_k_anonymous(k, qis, df):\n",
    "    return df[qis].value_counts().min() >= k\n",
    "\n",
    "data = pd.read_csv('patients.csv')\n",
    "\n",
    "print(\"First 5 rows: \")\n",
    "print(data.head(5))"
   ]
  },
  {
   "cell_type": "code",
   "execution_count": 26,
   "id": "e2760f9c-5691-4a81-9de9-18aec9faa317",
   "metadata": {},
   "outputs": [
    {
     "name": "stdout",
     "output_type": "stream",
     "text": [
      "The average laplace dp expenses is: $1237565.90\n",
      "The average laplace dp coverage is: $124591.04\n"
     ]
    }
   ],
   "source": [
    "# 1. Laplace for healthcare expenses and healhcare coverage here:\n",
    "\n",
    "def dp_sum_expenses(epsilon):\n",
    "    # Calculate the dp sum of the expenses column\n",
    "    b = 5000000\n",
    "    clip_sum = data['HEALTHCARE_EXPENSES'].clip(lower=0, upper=b).sum()\n",
    "    noisy_sum = laplace_mech(clip_sum, b, epsilon)\n",
    "    return noisy_sum\n",
    "\n",
    "def dp_sum_coverage(epsilon):\n",
    "    b = 500000\n",
    "    # Calculate the dp sum of the coverage column\n",
    "    clip_sum = data['HEALTHCARE_COVERAGE'].clip(lower=0, upper=b).sum()\n",
    "    noisy_sum = laplace_mech(clip_sum, b, epsilon)\n",
    "    return noisy_sum\n",
    "\n",
    "def dp_avg_expenses(epsilon):\n",
    "    # Calculate the dp average of the expenses column\n",
    "    noisy_sum = dp_sum_expenses(epsilon/2)\n",
    "    count = len(data)\n",
    "    noisy_count = laplace_mech(count, 1, epsilon/2)\n",
    "    return noisy_sum / noisy_count\n",
    "\n",
    "def dp_avg_coverage(epsilon):\n",
    "    # Calculate the dp average of the coverage column\n",
    "    noisy_sum = dp_sum_coverage(epsilon/2)\n",
    "    count = len(data)\n",
    "    noisy_count = laplace_mech(count, 1, epsilon/2)\n",
    "    return noisy_sum / noisy_count\n",
    "\n",
    "laplace_expenses = dp_avg_expenses(1)\n",
    "laplace_coverage = dp_avg_coverage(1)\n",
    "print(f\"The average laplace dp expenses is: ${laplace_expenses:.2f}\")\n",
    "print(f\"The average laplace dp coverage is: ${laplace_coverage:.2f}\")"
   ]
  },
  {
   "cell_type": "code",
   "execution_count": 27,
   "id": "83fb9dd3-a875-4aa8-8f6a-4d9e0fedf7f2",
   "metadata": {},
   "outputs": [
    {
     "name": "stdout",
     "output_type": "stream",
     "text": [
      "The average gaussian dp expenses is: $1220006.04\n",
      "The average gaussian dp coverage is: $122717.66\n"
     ]
    }
   ],
   "source": [
    "# 2. Guassian for healthcare expenses and healthcare coverage here:\n",
    "\n",
    "def dp_sum_expenses(epsilon, delta):\n",
    "    # Calculate the dp sum of the expenses column\n",
    "    b = 5000000\n",
    "    clip_sum = data['HEALTHCARE_EXPENSES'].clip(lower=0, upper=b).sum()\n",
    "    noisy_sum = gaussian_mech(clip_sum, b, epsilon, delta)\n",
    "    return noisy_sum\n",
    "\n",
    "def dp_sum_coverage(epsilon, delta):\n",
    "    # Calculate the dp sum of the coverage column\n",
    "    b = 500000\n",
    "    clip_sum = data['HEALTHCARE_COVERAGE'].clip(lower=0, upper=b).sum()\n",
    "    noisy_sum = gaussian_mech(clip_sum, b, epsilon, delta)\n",
    "    return noisy_sum\n",
    "\n",
    "def dp_avg_expenses(epsilon, delta):\n",
    "    # Calculate the dp average of the expenses column\n",
    "    noisy_sum = dp_sum_expenses(epsilon/2, delta)\n",
    "    count = len(data)\n",
    "    noisy_count = gaussian_mech(count, 1, epsilon/2, delta)\n",
    "    return noisy_sum / noisy_count\n",
    "\n",
    "def dp_avg_coverage(epsilon, delta):\n",
    "    # Calculate the dp average of the coverage column\n",
    "    noisy_sum = dp_sum_coverage(epsilon/2, delta)\n",
    "    count = len(data)\n",
    "    noisy_count = gaussian_mech(count, 1, epsilon/2, delta)\n",
    "    return noisy_sum / noisy_count\n",
    "\n",
    "gaussian_expenses = dp_avg_expenses(1, 1e-5)\n",
    "gaussian_coverage = dp_avg_coverage(1, 1e-5)\n",
    "print(f\"The average gaussian dp expenses is: ${gaussian_expenses:.2f}\")\n",
    "print(f\"The average gaussian dp coverage is: ${gaussian_coverage:.2f}\")"
   ]
  },
  {
   "cell_type": "code",
   "execution_count": 28,
   "id": "f95ee3e8-aca2-418a-a260-cbd605be3eb7",
   "metadata": {},
   "outputs": [
    {
     "name": "stdout",
     "output_type": "stream",
     "text": [
      "Percent diff laplace expenses: 1.49%\n",
      "Percent diff laplace coverage: 27.47%\n",
      "Percent diff gaussian expenses: 2.88%\n",
      "Percent diff gaussian coverage: 28.56%\n"
     ]
    }
   ],
   "source": [
    "# 3. Comparison between laplace and gaussian\n",
    "\n",
    "def real_average_expenses():\n",
    "    return data['HEALTHCARE_EXPENSES'].mean()\n",
    "\n",
    "def real_average_coverage():\n",
    "    return data['HEALTHCARE_COVERAGE'].mean()\n",
    "\n",
    "def percent_difference(real, estimated):\n",
    "    return abs(real - estimated) / real * 100\n",
    "\n",
    "real_expenses = real_average_expenses()\n",
    "real_coverage = real_average_coverage()\n",
    "\n",
    "percent_diff_laplace_expenses = percent_difference(real_expenses, laplace_expenses)\n",
    "percent_diff_laplace_coverage = percent_difference(real_coverage, laplace_coverage)\n",
    "percent_diff_gaussian_expenses = percent_difference(real_expenses, gaussian_expenses)\n",
    "percent_diff_gaussian_coverage = percent_difference(real_coverage, gaussian_coverage)\n",
    "\n",
    "print(f\"Percent diff laplace expenses: {percent_diff_laplace_expenses:.2f}%\")\n",
    "print(f\"Percent diff laplace coverage: {percent_diff_laplace_coverage:.2f}%\")\n",
    "print(f\"Percent diff gaussian expenses: {percent_diff_gaussian_expenses:.2f}%\")\n",
    "print(f\"Percent diff gaussian coverage: {percent_diff_gaussian_coverage:.2f}%\")"
   ]
  },
  {
   "cell_type": "code",
   "execution_count": 36,
   "id": "a3b6548b-368b-4582-9c3a-a4dcb820eb54",
   "metadata": {},
   "outputs": [
    {
     "name": "stdout",
     "output_type": "stream",
     "text": [
      "Anonymized Data:\n",
      "     ADDRESS         CITY          STATE   LAT   LON\n",
      "0   REDACTED  Springfield  Massachusetts  42.1 -72.5\n",
      "2   REDACTED       Boston  Massachusetts  42.3 -71.1\n",
      "4   REDACTED       Revere  Massachusetts  42.4 -71.0\n",
      "6   REDACTED       Revere  Massachusetts  42.4 -71.0\n",
      "7   REDACTED   Somerville  Massachusetts  42.4 -71.1\n",
      "8   REDACTED    Cambridge  Massachusetts  42.3 -71.1\n",
      "9   REDACTED  Springfield  Massachusetts  42.1 -72.5\n",
      "11  REDACTED   Somerville  Massachusetts  42.4 -71.1\n",
      "12  REDACTED    Wellesley  Massachusetts  42.3 -71.3\n",
      "13  REDACTED       Boston  Massachusetts  42.4 -71.1\n",
      "       ADDRESS           CITY          STATE   LAT   LON\n",
      "1148  REDACTED         Boston  Massachusetts  42.4 -71.0\n",
      "1149  REDACTED        Peabody  Massachusetts  42.6 -71.0\n",
      "1151  REDACTED  Middleborough  Massachusetts  41.8 -70.8\n",
      "1152  REDACTED       Scituate  Massachusetts  42.2 -70.7\n",
      "1153  REDACTED     Framingham  Massachusetts  42.3 -71.4\n",
      "1157  REDACTED     Marblehead  Massachusetts  42.5 -70.9\n",
      "1158  REDACTED        Amherst  Massachusetts  42.4 -72.5\n",
      "1159  REDACTED      Stoughton  Massachusetts  42.1 -71.1\n",
      "1161  REDACTED        Mashpee  Massachusetts  41.6 -70.5\n",
      "1162  REDACTED     Marblehead  Massachusetts  42.5 -70.9\n"
     ]
    }
   ],
   "source": [
    "# 4. Create k-anonymous address data here\n",
    "\n",
    "def anonymize(data, k):\n",
    "    # Group by CITY and STATE, filter groups with fewer than k records\n",
    "    group = data.groupby(['CITY', 'STATE'])\n",
    "    filtered = group.filter(lambda x: len(x) >= k)\n",
    "\n",
    "    # Generalize coordinate information, remove specific addresses\n",
    "    filtered['LAT'] = filtered['LAT'].round(1)\n",
    "    filtered['LON'] = filtered['LON'].round(1)\n",
    "    filtered['ADDRESS'] = 'REDACTED'\n",
    "    \n",
    "    return filtered\n",
    "\n",
    "k = 5\n",
    "data_anonymous = anonymize(data, k)\n",
    "\n",
    "# Print first 10 and last 10 addresses\n",
    "print(\"Anonymized Data:\")\n",
    "print(data_anonymous[['ADDRESS', 'CITY', 'STATE', 'LAT', 'LON']].head(10))\n",
    "print(data_anonymous[['ADDRESS', 'CITY', 'STATE', 'LAT', 'LON']].tail(10))"
   ]
  },
  {
   "cell_type": "code",
   "execution_count": null,
   "id": "6e5e6d93-6a95-485b-a0ff-98b3d2d545bf",
   "metadata": {},
   "outputs": [],
   "source": [
    "# 5. Perform a linkage attack"
   ]
  },
  {
   "cell_type": "code",
   "execution_count": 79,
   "id": "f8511a69-5765-420e-97c2-72d53a2eb28f",
   "metadata": {},
   "outputs": [
    {
     "data": {
      "text/html": [
       "<div>\n",
       "<style scoped>\n",
       "    .dataframe tbody tr th:only-of-type {\n",
       "        vertical-align: middle;\n",
       "    }\n",
       "\n",
       "    .dataframe tbody tr th {\n",
       "        vertical-align: top;\n",
       "    }\n",
       "\n",
       "    .dataframe thead th {\n",
       "        text-align: right;\n",
       "    }\n",
       "</style>\n",
       "<table border=\"1\" class=\"dataframe\">\n",
       "  <thead>\n",
       "    <tr style=\"text-align: right;\">\n",
       "      <th></th>\n",
       "      <th>FIRST</th>\n",
       "      <th>LAST</th>\n",
       "      <th>BIRTHDATE</th>\n",
       "      <th>CITY</th>\n",
       "      <th>STATE</th>\n",
       "      <th>ZIP</th>\n",
       "    </tr>\n",
       "  </thead>\n",
       "  <tbody>\n",
       "    <tr>\n",
       "      <th>0</th>\n",
       "      <td>Damon455</td>\n",
       "      <td>Langosh790</td>\n",
       "      <td>2019-02-17</td>\n",
       "      <td>Springfield</td>\n",
       "      <td>Massachusetts</td>\n",
       "      <td>1104.0</td>\n",
       "    </tr>\n",
       "    <tr>\n",
       "      <th>1</th>\n",
       "      <td>Thi53</td>\n",
       "      <td>Wunsch504</td>\n",
       "      <td>2005-07-04</td>\n",
       "      <td>Bellingham</td>\n",
       "      <td>Massachusetts</td>\n",
       "      <td>NaN</td>\n",
       "    </tr>\n",
       "    <tr>\n",
       "      <th>2</th>\n",
       "      <td>Chi716</td>\n",
       "      <td>Greenfelder433</td>\n",
       "      <td>1998-05-11</td>\n",
       "      <td>Boston</td>\n",
       "      <td>Massachusetts</td>\n",
       "      <td>2131.0</td>\n",
       "    </tr>\n",
       "    <tr>\n",
       "      <th>3</th>\n",
       "      <td>Phillis443</td>\n",
       "      <td>Walter473</td>\n",
       "      <td>2003-01-28</td>\n",
       "      <td>Hingham</td>\n",
       "      <td>Massachusetts</td>\n",
       "      <td>2043.0</td>\n",
       "    </tr>\n",
       "    <tr>\n",
       "      <th>4</th>\n",
       "      <td>Jerrold404</td>\n",
       "      <td>Herzog843</td>\n",
       "      <td>1993-12-23</td>\n",
       "      <td>Revere</td>\n",
       "      <td>Massachusetts</td>\n",
       "      <td>NaN</td>\n",
       "    </tr>\n",
       "  </tbody>\n",
       "</table>\n",
       "</div>"
      ],
      "text/plain": [
       "        FIRST            LAST   BIRTHDATE         CITY          STATE     ZIP\n",
       "0    Damon455      Langosh790  2019-02-17  Springfield  Massachusetts  1104.0\n",
       "1       Thi53       Wunsch504  2005-07-04   Bellingham  Massachusetts     NaN\n",
       "2      Chi716  Greenfelder433  1998-05-11       Boston  Massachusetts  2131.0\n",
       "3  Phillis443       Walter473  2003-01-28      Hingham  Massachusetts  2043.0\n",
       "4  Jerrold404       Herzog843  1993-12-23       Revere  Massachusetts     NaN"
      ]
     },
     "execution_count": 79,
     "metadata": {},
     "output_type": "execute_result"
    }
   ],
   "source": [
    "data_pii = data[['FIRST', 'LAST', 'BIRTHDATE', 'CITY', 'STATE', 'ZIP']]\n",
    "data_pii.head()"
   ]
  },
  {
   "cell_type": "code",
   "execution_count": 80,
   "id": "73c24393-5aef-47d8-9da9-3c0cf5aaefee",
   "metadata": {},
   "outputs": [
    {
     "data": {
      "text/html": [
       "<div>\n",
       "<style scoped>\n",
       "    .dataframe tbody tr th:only-of-type {\n",
       "        vertical-align: middle;\n",
       "    }\n",
       "\n",
       "    .dataframe tbody tr th {\n",
       "        vertical-align: top;\n",
       "    }\n",
       "\n",
       "    .dataframe thead th {\n",
       "        text-align: right;\n",
       "    }\n",
       "</style>\n",
       "<table border=\"1\" class=\"dataframe\">\n",
       "  <thead>\n",
       "    <tr style=\"text-align: right;\">\n",
       "      <th></th>\n",
       "      <th>BIRTHDATE</th>\n",
       "      <th>MARITAL</th>\n",
       "      <th>RACE</th>\n",
       "      <th>ETHNICITY</th>\n",
       "      <th>GENDER</th>\n",
       "      <th>CITY</th>\n",
       "      <th>STATE</th>\n",
       "      <th>COUNTY</th>\n",
       "      <th>ZIP</th>\n",
       "      <th>HEALTHCARE_EXPENSES</th>\n",
       "      <th>HEALTHCARE_COVERAGE</th>\n",
       "    </tr>\n",
       "  </thead>\n",
       "  <tbody>\n",
       "    <tr>\n",
       "      <th>0</th>\n",
       "      <td>2019-02-17</td>\n",
       "      <td>NaN</td>\n",
       "      <td>white</td>\n",
       "      <td>nonhispanic</td>\n",
       "      <td>M</td>\n",
       "      <td>Springfield</td>\n",
       "      <td>Massachusetts</td>\n",
       "      <td>Hampden County</td>\n",
       "      <td>1104.0</td>\n",
       "      <td>9039.1645</td>\n",
       "      <td>7964.1255</td>\n",
       "    </tr>\n",
       "    <tr>\n",
       "      <th>1</th>\n",
       "      <td>2005-07-04</td>\n",
       "      <td>NaN</td>\n",
       "      <td>white</td>\n",
       "      <td>nonhispanic</td>\n",
       "      <td>F</td>\n",
       "      <td>Bellingham</td>\n",
       "      <td>Massachusetts</td>\n",
       "      <td>Norfolk County</td>\n",
       "      <td>NaN</td>\n",
       "      <td>402723.4150</td>\n",
       "      <td>14064.1350</td>\n",
       "    </tr>\n",
       "    <tr>\n",
       "      <th>2</th>\n",
       "      <td>1998-05-11</td>\n",
       "      <td>NaN</td>\n",
       "      <td>white</td>\n",
       "      <td>nonhispanic</td>\n",
       "      <td>M</td>\n",
       "      <td>Boston</td>\n",
       "      <td>Massachusetts</td>\n",
       "      <td>Suffolk County</td>\n",
       "      <td>2131.0</td>\n",
       "      <td>571935.8725</td>\n",
       "      <td>787.5375</td>\n",
       "    </tr>\n",
       "    <tr>\n",
       "      <th>3</th>\n",
       "      <td>2003-01-28</td>\n",
       "      <td>NaN</td>\n",
       "      <td>white</td>\n",
       "      <td>nonhispanic</td>\n",
       "      <td>F</td>\n",
       "      <td>Hingham</td>\n",
       "      <td>Massachusetts</td>\n",
       "      <td>Plymouth County</td>\n",
       "      <td>2043.0</td>\n",
       "      <td>582557.8030</td>\n",
       "      <td>104782.2070</td>\n",
       "    </tr>\n",
       "    <tr>\n",
       "      <th>4</th>\n",
       "      <td>1993-12-23</td>\n",
       "      <td>M</td>\n",
       "      <td>black</td>\n",
       "      <td>nonhispanic</td>\n",
       "      <td>M</td>\n",
       "      <td>Revere</td>\n",
       "      <td>Massachusetts</td>\n",
       "      <td>Suffolk County</td>\n",
       "      <td>NaN</td>\n",
       "      <td>475826.8550</td>\n",
       "      <td>18067.0950</td>\n",
       "    </tr>\n",
       "  </tbody>\n",
       "</table>\n",
       "</div>"
      ],
      "text/plain": [
       "    BIRTHDATE MARITAL   RACE    ETHNICITY GENDER         CITY          STATE  \\\n",
       "0  2019-02-17     NaN  white  nonhispanic      M  Springfield  Massachusetts   \n",
       "1  2005-07-04     NaN  white  nonhispanic      F   Bellingham  Massachusetts   \n",
       "2  1998-05-11     NaN  white  nonhispanic      M       Boston  Massachusetts   \n",
       "3  2003-01-28     NaN  white  nonhispanic      F      Hingham  Massachusetts   \n",
       "4  1993-12-23       M  black  nonhispanic      M       Revere  Massachusetts   \n",
       "\n",
       "            COUNTY     ZIP  HEALTHCARE_EXPENSES  HEALTHCARE_COVERAGE  \n",
       "0   Hampden County  1104.0            9039.1645            7964.1255  \n",
       "1   Norfolk County     NaN          402723.4150           14064.1350  \n",
       "2   Suffolk County  2131.0          571935.8725             787.5375  \n",
       "3  Plymouth County  2043.0          582557.8030          104782.2070  \n",
       "4   Suffolk County     NaN          475826.8550           18067.0950  "
      ]
     },
     "execution_count": 80,
     "metadata": {},
     "output_type": "execute_result"
    }
   ],
   "source": [
    "data_deid = data.drop(columns=['Id', 'DEATHDATE', 'SSN', 'DRIVERS', 'PASSPORT', 'PREFIX', 'FIRST', 'LAST', 'SUFFIX', 'MAIDEN', 'BIRTHPLACE', 'ADDRESS', 'LAT', 'LON'])\n",
    "data_deid.head()"
   ]
  },
  {
   "cell_type": "code",
   "execution_count": 81,
   "id": "e5025f18-36fd-4c53-a888-7bae0397414d",
   "metadata": {},
   "outputs": [
    {
     "name": "stdout",
     "output_type": "stream",
     "text": [
      "299659\n",
      "1851\n",
      "1533\n",
      "1531\n"
     ]
    }
   ],
   "source": [
    "def linking_attack(cols):\n",
    "    data_linked = pd.merge(data_pii, data_deid, left_on=cols, right_on=cols)\n",
    "    return data_linked\n",
    "\n",
    "print(len(linking_attack(['ZIP'])))\n",
    "print(len(linking_attack(['BIRTHDATE'])))\n",
    "print(len(linking_attack(['ZIP', 'BIRTHDATE'])))\n",
    "print(len(linking_attack(['ZIP', 'BIRTHDATE', 'CITY'])))"
   ]
  },
  {
   "cell_type": "code",
   "execution_count": null,
   "id": "290f34db-0453-4bba-b889-4a4192337628",
   "metadata": {},
   "outputs": [],
   "source": [
    "# 6. Clipping on expenses column"
   ]
  },
  {
   "cell_type": "code",
   "execution_count": 52,
   "id": "0604d6cf-5606-46c8-be2a-8c427de56ef2",
   "metadata": {},
   "outputs": [
    {
     "name": "stdout",
     "output_type": "stream",
     "text": [
      "1 1096.8265362898844\n",
      "100001 119998899.80820711\n",
      "200001 216039058.89789757\n",
      "300001 357640765.3337801\n",
      "400001 420332769.86732775\n",
      "500001 482599487.91595674\n",
      "600001 578936645.8743817\n",
      "700001 696418121.7253163\n",
      "800001 688506128.7183858\n",
      "900001 774248384.8088973\n",
      "1000001 818534976.8439758\n",
      "1100001 936227484.2993749\n",
      "1200001 925851489.4894291\n",
      "1300001 1109396880.126967\n",
      "1400001 1145606760.6692567\n",
      "1500001 1239917830.7214274\n",
      "1600001 1197400829.3010738\n",
      "1700001 1222429678.8867998\n",
      "1800001 1226149817.0378456\n",
      "1900001 1146300979.5329332\n",
      "2000001 1375117669.7701068\n",
      "2100001 1283815648.8167098\n",
      "2200001 1345041131.2313614\n",
      "2300001 1845192377.7560043\n",
      "2400001 1295996988.397218\n",
      "2500001 1414622117.92941\n",
      "2600001 1175789813.5654337\n",
      "2700001 1167724283.529558\n",
      "2800001 1100118239.940289\n",
      "2900001 1522705432.209178\n",
      "3000001 1436423975.3751583\n",
      "3100001 1480422855.775668\n",
      "3200001 1394232814.5324576\n",
      "3300001 1519648074.0946996\n",
      "3400001 1541726404.3326366\n",
      "3500001 1555599521.1804986\n",
      "3600001 1275496936.6188238\n",
      "3700001 1985863102.9272218\n",
      "3800001 1191828846.4204202\n",
      "3900001 1540612310.106895\n",
      "4000001 1526351823.3651817\n",
      "4100001 1592205554.9103355\n",
      "4200001 1182436913.354952\n",
      "4300001 1576901416.3401158\n",
      "4400001 1937936134.1406846\n",
      "4500001 1882983251.2082837\n",
      "4600001 793450788.6681638\n",
      "4700001 1327042133.0467534\n",
      "4800001 1780903439.9942179\n",
      "4900001 1682653635.4562752\n"
     ]
    }
   ],
   "source": [
    "def find_b():\n",
    "    bs = range(1, 5000000, 100000)\n",
    "    epsilon_i = 1/len(bs)\n",
    "    old_result = 0\n",
    "    for b in bs:\n",
    "        result = data['HEALTHCARE_EXPENSES'].clip(upper=b).sum()\n",
    "        dp_result = laplace_mech(result, sensitivity=b, epsilon=epsilon_i)\n",
    "        print(b, dp_result)\n",
    "        \n",
    "find_b()"
   ]
  },
  {
   "cell_type": "code",
   "execution_count": 53,
   "id": "784c69ca-eb59-4f16-b1d3-f0fd60114f13",
   "metadata": {},
   "outputs": [
    {
     "data": {
      "text/plain": [
       "1217545.8183148874"
      ]
     },
     "execution_count": 53,
     "metadata": {},
     "output_type": "execute_result"
    }
   ],
   "source": [
    "def mean_expenses_clipping(epsilon):\n",
    "    df = data['HEALTHCARE_EXPENSES']\n",
    "    lower = 0\n",
    "    upper = 2900001\n",
    "\n",
    "    dp_sum = laplace_mech(df.clip(upper=upper).sum(), sensitivity=upper, epsilon=epsilon/2)\n",
    "    dp_count = laplace_mech(len(df), sensitivity=1, epsilon=epsilon/2)\n",
    "    return dp_sum/dp_count\n",
    "\n",
    "mean_expenses_clipping(1.0)"
   ]
  },
  {
   "cell_type": "code",
   "execution_count": null,
   "id": "a0e0b138-8d1f-4858-9ffb-981ab0fb09f9",
   "metadata": {},
   "outputs": [],
   "source": [
    "# 7. Propose test release vs SAA"
   ]
  },
  {
   "cell_type": "code",
   "execution_count": 62,
   "id": "3070de6d-ec80-4e86-bc39-9c9e33924dc9",
   "metadata": {},
   "outputs": [
    {
     "data": {
      "text/plain": [
       "178063.71994518308"
      ]
     },
     "execution_count": 62,
     "metadata": {},
     "output_type": "execute_result"
    }
   ],
   "source": [
    "def ls_mean_at_distance(df, b, k):\n",
    "    n = len(df)\n",
    "    return b/(n - k)\n",
    "\n",
    "def dist_to_high_ls_mean(df, b, s):\n",
    "    k = 0\n",
    "    while ls_mean_at_distance(df, b, k) < s:\n",
    "        k += 1\n",
    "    return k\n",
    "\n",
    "def mean_expenses_ptr(s, epsilon, delta):\n",
    "    df = data['HEALTHCARE_EXPENSES']\n",
    "    lower = 0\n",
    "    upper = 2900001\n",
    "    \n",
    "    distance = dist_to_high_ls_mean(df, b, s)\n",
    "    noisy_distance = laplace_mech(distance, sensitivity=1, epsilon=epsilon)\n",
    "    test_result = noisy_distance < np.log(2/delta)/(2*epsilon)\n",
    "    if test_result:\n",
    "        return False\n",
    "\n",
    "    result = df.clip(lower=0, upper=b).mean()\n",
    "    return laplace_mech(result, sensitivity=s, epsilon=epsilon)\n",
    "\n",
    "mean_ptr(10000, 1, 1e-5) # fix with better value for s"
   ]
  },
  {
   "cell_type": "code",
   "execution_count": 55,
   "id": "823e6299-1199-4b91-92f4-8a7ecc32c7dc",
   "metadata": {},
   "outputs": [
    {
     "name": "stderr",
     "output_type": "stream",
     "text": [
      "C:\\Users\\jackg\\anaconda3\\Lib\\site-packages\\numpy\\core\\fromnumeric.py:59: FutureWarning: 'Series.swapaxes' is deprecated and will be removed in a future version. Please use 'Series.transpose' instead.\n",
      "  return bound(*args, **kwds)\n"
     ]
    },
    {
     "data": {
      "text/plain": [
       "1228961.9707853706"
      ]
     },
     "execution_count": 55,
     "metadata": {},
     "output_type": "execute_result"
    }
   ],
   "source": [
    "def f(chunk):\n",
    "    return chunk.mean()\n",
    "\n",
    "def mean_expenses_saa(k, epsilon):\n",
    "    df = data['HEALTHCARE_EXPENSES']\n",
    "    lower = 0\n",
    "    upper = 2900001 # replace with clipping parameter in 6\n",
    "    \n",
    "    chunks = np.array_split(df, k)\n",
    "    answers = [f(chunk) for chunk in chunks]\n",
    "    answers_clipped = pd.Series(answers).clip(lower=lower, upper=upper)\n",
    "    answers_clipped_avg = answers_clipped.mean()\n",
    "    return laplace_mech(answers_clipped_avg, sensitivity=upper/k, epsilon=epsilon)\n",
    "\n",
    "mean_expenses_saa(20, 1.0)"
   ]
  },
  {
   "cell_type": "code",
   "execution_count": null,
   "id": "bd1ec231-332e-460e-b65c-89f362a4dc71",
   "metadata": {},
   "outputs": [],
   "source": [
    "# 8. Gradient descent"
   ]
  }
 ],
 "metadata": {
  "kernelspec": {
   "display_name": "Python 3 (ipykernel)",
   "language": "python",
   "name": "python3"
  },
  "language_info": {
   "codemirror_mode": {
    "name": "ipython",
    "version": 3
   },
   "file_extension": ".py",
   "mimetype": "text/x-python",
   "name": "python",
   "nbconvert_exporter": "python",
   "pygments_lexer": "ipython3",
   "version": "3.12.4"
  }
 },
 "nbformat": 4,
 "nbformat_minor": 5
}
