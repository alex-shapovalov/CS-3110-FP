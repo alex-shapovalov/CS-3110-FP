{
 "cells": [
  {
   "cell_type": "markdown",
   "id": "9b01160d-20cd-48f1-b43f-99dacbd437bc",
   "metadata": {},
   "source": [
    "## CS3110 Final Project\n",
    "\n",
    "Jack Giuliani & Alex Shapovalov\n",
    "\n",
    "Our project uses data from “SyntheticHealth” which is an organization that creates mock patient data for ML use. We used a variety of methods to analyze this data, including applying Laplace and Gaussian noise, k-anonymizing data, and clipping. We also tested the Propose-Test-Release and Sample and Aggregate frameworks as methods to find average and maximum values for some numeric categories while still achieving differential privacy."
   ]
  },
  {
   "cell_type": "code",
   "execution_count": 20,
   "id": "4ac75c84-24fd-4dfd-a146-6aab703f2661",
   "metadata": {},
   "outputs": [
    {
     "name": "stdout",
     "output_type": "stream",
     "text": [
      "First 5 rows: \n",
      "                                     Id   BIRTHDATE DEATHDATE          SSN  \\\n",
      "0  b9c610cd-28a6-4636-ccb6-c7a0d2a4cb85  2019-02-17       NaN  999-65-3251   \n",
      "1  c1f1fcaa-82fd-d5b7-3544-c8f9708b06a8  2005-07-04       NaN  999-49-3323   \n",
      "2  339144f8-50e1-633e-a013-f361391c4cff  1998-05-11       NaN  999-10-8743   \n",
      "3  d488232e-bf14-4bed-08c0-a82f34b6a197  2003-01-28       NaN  999-56-6057   \n",
      "4  217f95a3-4e10-bd5d-fb67-0cfb5e8ba075  1993-12-23       NaN  999-91-4320   \n",
      "\n",
      "     DRIVERS    PASSPORT PREFIX       FIRST            LAST SUFFIX  ...  \\\n",
      "0        NaN         NaN    NaN    Damon455      Langosh790    NaN  ...   \n",
      "1  S99941126         NaN    NaN       Thi53       Wunsch504    NaN  ...   \n",
      "2  S99996708  X75063318X    Mr.      Chi716  Greenfelder433    NaN  ...   \n",
      "3  S99929424         NaN    Ms.  Phillis443       Walter473    NaN  ...   \n",
      "4  S99991143  X44132498X    Mr.  Jerrold404       Herzog843    NaN  ...   \n",
      "\n",
      "                         BIRTHPLACE                           ADDRESS  \\\n",
      "0  Middleborough  Massachusetts  US            620 Lynch Tunnel Apt 0   \n",
      "1        Danvers  Massachusetts  US       972 Tillman Branch Suite 48   \n",
      "2     Athens  Athens Prefecture  GR  1060 Bernhard Crossroad Suite 15   \n",
      "3         Boston  Massachusetts  US               677 Ritchie Terrace   \n",
      "4         Boston  Massachusetts  US                276 Bernier Branch   \n",
      "\n",
      "          CITY          STATE           COUNTY     ZIP        LAT        LON  \\\n",
      "0  Springfield  Massachusetts   Hampden County  1104.0  42.080389 -72.480431   \n",
      "1   Bellingham  Massachusetts   Norfolk County     NaN  42.035213 -71.482519   \n",
      "2       Boston  Massachusetts   Suffolk County  2131.0  42.292557 -71.061160   \n",
      "3      Hingham  Massachusetts  Plymouth County  2043.0  42.200491 -70.916076   \n",
      "4       Revere  Massachusetts   Suffolk County     NaN  42.381875 -70.999286   \n",
      "\n",
      "  HEALTHCARE_EXPENSES HEALTHCARE_COVERAGE  \n",
      "0           9039.1645           7964.1255  \n",
      "1         402723.4150          14064.1350  \n",
      "2         571935.8725            787.5375  \n",
      "3         582557.8030         104782.2070  \n",
      "4         475826.8550          18067.0950  \n",
      "\n",
      "[5 rows x 25 columns]\n"
     ]
    }
   ],
   "source": [
    "# Base code from class\n",
    "\n",
    "import pandas as pd\n",
    "import numpy as np\n",
    "import matplotlib.pyplot as plt\n",
    "import warnings\n",
    "\n",
    "warnings.simplefilter(action='ignore', category=FutureWarning)\n",
    "\n",
    "def laplace_mech(v, sensitivity, epsilon):\n",
    "    return v + np.random.laplace(loc=0, scale=sensitivity / epsilon)\n",
    "\n",
    "def gaussian_mech(v, sensitivity, epsilon, delta):\n",
    "    return v + np.random.normal(loc=0, scale=sensitivity * np.sqrt(2*np.log(1.25/delta)) / epsilon)\n",
    "\n",
    "def is_k_anonymous(k, qis, df):\n",
    "    return df[qis].value_counts().min() >= k\n",
    "\n",
    "# The data: https://synthetichealth.github.io/synthea/\n",
    "\n",
    "data = pd.read_csv('patients.csv')\n",
    "\n",
    "print(\"First 5 rows: \")\n",
    "print(data.head(5))"
   ]
  },
  {
   "cell_type": "code",
   "execution_count": 21,
   "id": "e2760f9c-5691-4a81-9de9-18aec9faa317",
   "metadata": {},
   "outputs": [
    {
     "name": "stdout",
     "output_type": "stream",
     "text": [
      "The average laplace dp expenses is: $1226254.65\n",
      "The average laplace dp coverage is: $125918.69\n"
     ]
    }
   ],
   "source": [
    "# 1. Laplace for healthcare expenses and healhcare coverage here:\n",
    "\n",
    "def dp_sum_expenses(epsilon):\n",
    "    # Calculate the dp sum of the expenses column\n",
    "    b = 5000000\n",
    "    clip_sum = data['HEALTHCARE_EXPENSES'].clip(lower=0, upper=b).sum()\n",
    "    noisy_sum = laplace_mech(clip_sum, b, epsilon)\n",
    "    return noisy_sum\n",
    "\n",
    "def dp_sum_coverage(epsilon):\n",
    "    b = 500000\n",
    "    # Calculate the dp sum of the coverage column\n",
    "    clip_sum = data['HEALTHCARE_COVERAGE'].clip(lower=0, upper=b).sum()\n",
    "    noisy_sum = laplace_mech(clip_sum, b, epsilon)\n",
    "    return noisy_sum\n",
    "\n",
    "def dp_avg_expenses(epsilon):\n",
    "    # Calculate the dp average of the expenses column\n",
    "    noisy_sum = dp_sum_expenses(epsilon/2)\n",
    "    count = len(data)\n",
    "    noisy_count = laplace_mech(count, 1, epsilon/2)\n",
    "    return noisy_sum / noisy_count\n",
    "\n",
    "def dp_avg_coverage(epsilon):\n",
    "    # Calculate the dp average of the coverage column\n",
    "    noisy_sum = dp_sum_coverage(epsilon/2)\n",
    "    count = len(data)\n",
    "    noisy_count = laplace_mech(count, 1, epsilon/2)\n",
    "    return noisy_sum / noisy_count\n",
    "\n",
    "laplace_expenses = dp_avg_expenses(1)\n",
    "laplace_coverage = dp_avg_coverage(1)\n",
    "print(f\"The average laplace dp expenses is: ${laplace_expenses:.2f}\")\n",
    "print(f\"The average laplace dp coverage is: ${laplace_coverage:.2f}\")"
   ]
  },
  {
   "cell_type": "code",
   "execution_count": 22,
   "id": "83fb9dd3-a875-4aa8-8f6a-4d9e0fedf7f2",
   "metadata": {},
   "outputs": [
    {
     "name": "stdout",
     "output_type": "stream",
     "text": [
      "The average gaussian dp expenses is: $1173180.50\n",
      "The average gaussian dp coverage is: $123075.97\n"
     ]
    }
   ],
   "source": [
    "# 2. Guassian for healthcare expenses and healthcare coverage here:\n",
    "\n",
    "def dp_sum_expenses(epsilon, delta):\n",
    "    # Calculate the dp sum of the expenses column\n",
    "    b = 5000000\n",
    "    clip_sum = data['HEALTHCARE_EXPENSES'].clip(lower=0, upper=b).sum()\n",
    "    noisy_sum = gaussian_mech(clip_sum, b, epsilon, delta)\n",
    "    return noisy_sum\n",
    "\n",
    "def dp_sum_coverage(epsilon, delta):\n",
    "    # Calculate the dp sum of the coverage column\n",
    "    b = 500000\n",
    "    clip_sum = data['HEALTHCARE_COVERAGE'].clip(lower=0, upper=b).sum()\n",
    "    noisy_sum = gaussian_mech(clip_sum, b, epsilon, delta)\n",
    "    return noisy_sum\n",
    "\n",
    "def dp_avg_expenses(epsilon, delta):\n",
    "    # Calculate the dp average of the expenses column\n",
    "    noisy_sum = dp_sum_expenses(epsilon/2, delta)\n",
    "    count = len(data)\n",
    "    noisy_count = gaussian_mech(count, 1, epsilon/2, delta)\n",
    "    return noisy_sum / noisy_count\n",
    "\n",
    "def dp_avg_coverage(epsilon, delta):\n",
    "    # Calculate the dp average of the coverage column\n",
    "    noisy_sum = dp_sum_coverage(epsilon/2, delta)\n",
    "    count = len(data)\n",
    "    noisy_count = gaussian_mech(count, 1, epsilon/2, delta)\n",
    "    return noisy_sum / noisy_count\n",
    "\n",
    "gaussian_expenses = dp_avg_expenses(1, 1e-5)\n",
    "gaussian_coverage = dp_avg_coverage(1, 1e-5)\n",
    "print(f\"The average gaussian dp expenses is: ${gaussian_expenses:.2f}\")\n",
    "print(f\"The average gaussian dp coverage is: ${gaussian_coverage:.2f}\")"
   ]
  },
  {
   "cell_type": "code",
   "execution_count": 23,
   "id": "f95ee3e8-aca2-418a-a260-cbd605be3eb7",
   "metadata": {},
   "outputs": [
    {
     "name": "stdout",
     "output_type": "stream",
     "text": [
      "Percent diff laplace expenses: 2.39%\n",
      "Percent diff laplace coverage: 26.69%\n",
      "Percent diff gaussian expenses: 6.61%\n",
      "Percent diff gaussian coverage: 28.35%\n"
     ]
    }
   ],
   "source": [
    "# 3. Comparison between laplace and gaussian\n",
    "\n",
    "def real_average_expenses():\n",
    "    return data['HEALTHCARE_EXPENSES'].mean()\n",
    "\n",
    "def real_average_coverage():\n",
    "    return data['HEALTHCARE_COVERAGE'].mean()\n",
    "\n",
    "def percent_difference(real, estimated):\n",
    "    return abs(real - estimated) / real * 100\n",
    "\n",
    "real_expenses = real_average_expenses()\n",
    "real_coverage = real_average_coverage()\n",
    "\n",
    "percent_diff_laplace_expenses = percent_difference(real_expenses, laplace_expenses)\n",
    "percent_diff_laplace_coverage = percent_difference(real_coverage, laplace_coverage)\n",
    "percent_diff_gaussian_expenses = percent_difference(real_expenses, gaussian_expenses)\n",
    "percent_diff_gaussian_coverage = percent_difference(real_coverage, gaussian_coverage)\n",
    "\n",
    "print(f\"Percent diff laplace expenses: {percent_diff_laplace_expenses:.2f}%\")\n",
    "print(f\"Percent diff laplace coverage: {percent_diff_laplace_coverage:.2f}%\")\n",
    "print(f\"Percent diff gaussian expenses: {percent_diff_gaussian_expenses:.2f}%\")\n",
    "print(f\"Percent diff gaussian coverage: {percent_diff_gaussian_coverage:.2f}%\")"
   ]
  },
  {
   "cell_type": "code",
   "execution_count": 24,
   "id": "a3b6548b-368b-4582-9c3a-a4dcb820eb54",
   "metadata": {},
   "outputs": [
    {
     "name": "stdout",
     "output_type": "stream",
     "text": [
      "Anonymized Data:\n",
      "     ADDRESS         CITY          STATE   LAT   LON\n",
      "0   REDACTED  Springfield  Massachusetts  42.1 -72.5\n",
      "2   REDACTED       Boston  Massachusetts  42.3 -71.1\n",
      "4   REDACTED       Revere  Massachusetts  42.4 -71.0\n",
      "6   REDACTED       Revere  Massachusetts  42.4 -71.0\n",
      "7   REDACTED   Somerville  Massachusetts  42.4 -71.1\n",
      "8   REDACTED    Cambridge  Massachusetts  42.3 -71.1\n",
      "9   REDACTED  Springfield  Massachusetts  42.1 -72.5\n",
      "11  REDACTED   Somerville  Massachusetts  42.4 -71.1\n",
      "12  REDACTED    Wellesley  Massachusetts  42.3 -71.3\n",
      "13  REDACTED       Boston  Massachusetts  42.4 -71.1\n",
      "       ADDRESS           CITY          STATE   LAT   LON\n",
      "1148  REDACTED         Boston  Massachusetts  42.4 -71.0\n",
      "1149  REDACTED        Peabody  Massachusetts  42.6 -71.0\n",
      "1151  REDACTED  Middleborough  Massachusetts  41.8 -70.8\n",
      "1152  REDACTED       Scituate  Massachusetts  42.2 -70.7\n",
      "1153  REDACTED     Framingham  Massachusetts  42.3 -71.4\n",
      "1157  REDACTED     Marblehead  Massachusetts  42.5 -70.9\n",
      "1158  REDACTED        Amherst  Massachusetts  42.4 -72.5\n",
      "1159  REDACTED      Stoughton  Massachusetts  42.1 -71.1\n",
      "1161  REDACTED        Mashpee  Massachusetts  41.6 -70.5\n",
      "1162  REDACTED     Marblehead  Massachusetts  42.5 -70.9\n"
     ]
    }
   ],
   "source": [
    "# 4. Create k-anonymous address data here\n",
    "\n",
    "def anonymize(data, k):\n",
    "    # Group by CITY and STATE, filter groups with fewer than k records\n",
    "    group = data.groupby(['CITY', 'STATE'])\n",
    "    filtered = group.filter(lambda x: len(x) >= k)\n",
    "\n",
    "    # Generalize coordinate information, remove specific addresses\n",
    "    filtered['LAT'] = filtered['LAT'].round(1)\n",
    "    filtered['LON'] = filtered['LON'].round(1)\n",
    "    filtered['ADDRESS'] = 'REDACTED'\n",
    "    \n",
    "    return filtered\n",
    "\n",
    "k = 5\n",
    "data_anonymous = anonymize(data, k)\n",
    "\n",
    "# Print first 10 and last 10 addresses\n",
    "print(\"Anonymized Data:\")\n",
    "print(data_anonymous[['ADDRESS', 'CITY', 'STATE', 'LAT', 'LON']].head(10))\n",
    "print(data_anonymous[['ADDRESS', 'CITY', 'STATE', 'LAT', 'LON']].tail(10))"
   ]
  },
  {
   "cell_type": "code",
   "execution_count": 25,
   "id": "6e5e6d93-6a95-485b-a0ff-98b3d2d545bf",
   "metadata": {},
   "outputs": [],
   "source": [
    "# 5. Perform a linkage attack"
   ]
  },
  {
   "cell_type": "code",
   "execution_count": 26,
   "id": "f8511a69-5765-420e-97c2-72d53a2eb28f",
   "metadata": {},
   "outputs": [
    {
     "data": {
      "text/html": [
       "<div>\n",
       "<style scoped>\n",
       "    .dataframe tbody tr th:only-of-type {\n",
       "        vertical-align: middle;\n",
       "    }\n",
       "\n",
       "    .dataframe tbody tr th {\n",
       "        vertical-align: top;\n",
       "    }\n",
       "\n",
       "    .dataframe thead th {\n",
       "        text-align: right;\n",
       "    }\n",
       "</style>\n",
       "<table border=\"1\" class=\"dataframe\">\n",
       "  <thead>\n",
       "    <tr style=\"text-align: right;\">\n",
       "      <th></th>\n",
       "      <th>FIRST</th>\n",
       "      <th>LAST</th>\n",
       "      <th>BIRTHDATE</th>\n",
       "      <th>CITY</th>\n",
       "      <th>STATE</th>\n",
       "      <th>ZIP</th>\n",
       "    </tr>\n",
       "  </thead>\n",
       "  <tbody>\n",
       "    <tr>\n",
       "      <th>0</th>\n",
       "      <td>Damon455</td>\n",
       "      <td>Langosh790</td>\n",
       "      <td>2019-02-17</td>\n",
       "      <td>Springfield</td>\n",
       "      <td>Massachusetts</td>\n",
       "      <td>1104.0</td>\n",
       "    </tr>\n",
       "    <tr>\n",
       "      <th>1</th>\n",
       "      <td>Thi53</td>\n",
       "      <td>Wunsch504</td>\n",
       "      <td>2005-07-04</td>\n",
       "      <td>Bellingham</td>\n",
       "      <td>Massachusetts</td>\n",
       "      <td>NaN</td>\n",
       "    </tr>\n",
       "    <tr>\n",
       "      <th>2</th>\n",
       "      <td>Chi716</td>\n",
       "      <td>Greenfelder433</td>\n",
       "      <td>1998-05-11</td>\n",
       "      <td>Boston</td>\n",
       "      <td>Massachusetts</td>\n",
       "      <td>2131.0</td>\n",
       "    </tr>\n",
       "    <tr>\n",
       "      <th>3</th>\n",
       "      <td>Phillis443</td>\n",
       "      <td>Walter473</td>\n",
       "      <td>2003-01-28</td>\n",
       "      <td>Hingham</td>\n",
       "      <td>Massachusetts</td>\n",
       "      <td>2043.0</td>\n",
       "    </tr>\n",
       "    <tr>\n",
       "      <th>4</th>\n",
       "      <td>Jerrold404</td>\n",
       "      <td>Herzog843</td>\n",
       "      <td>1993-12-23</td>\n",
       "      <td>Revere</td>\n",
       "      <td>Massachusetts</td>\n",
       "      <td>NaN</td>\n",
       "    </tr>\n",
       "  </tbody>\n",
       "</table>\n",
       "</div>"
      ],
      "text/plain": [
       "        FIRST            LAST   BIRTHDATE         CITY          STATE     ZIP\n",
       "0    Damon455      Langosh790  2019-02-17  Springfield  Massachusetts  1104.0\n",
       "1       Thi53       Wunsch504  2005-07-04   Bellingham  Massachusetts     NaN\n",
       "2      Chi716  Greenfelder433  1998-05-11       Boston  Massachusetts  2131.0\n",
       "3  Phillis443       Walter473  2003-01-28      Hingham  Massachusetts  2043.0\n",
       "4  Jerrold404       Herzog843  1993-12-23       Revere  Massachusetts     NaN"
      ]
     },
     "execution_count": 26,
     "metadata": {},
     "output_type": "execute_result"
    }
   ],
   "source": [
    "data_pii = data[['FIRST', 'LAST', 'BIRTHDATE', 'CITY', 'STATE', 'ZIP']]\n",
    "data_pii.head()"
   ]
  },
  {
   "cell_type": "code",
   "execution_count": 27,
   "id": "73c24393-5aef-47d8-9da9-3c0cf5aaefee",
   "metadata": {},
   "outputs": [
    {
     "data": {
      "text/html": [
       "<div>\n",
       "<style scoped>\n",
       "    .dataframe tbody tr th:only-of-type {\n",
       "        vertical-align: middle;\n",
       "    }\n",
       "\n",
       "    .dataframe tbody tr th {\n",
       "        vertical-align: top;\n",
       "    }\n",
       "\n",
       "    .dataframe thead th {\n",
       "        text-align: right;\n",
       "    }\n",
       "</style>\n",
       "<table border=\"1\" class=\"dataframe\">\n",
       "  <thead>\n",
       "    <tr style=\"text-align: right;\">\n",
       "      <th></th>\n",
       "      <th>BIRTHDATE</th>\n",
       "      <th>MARITAL</th>\n",
       "      <th>RACE</th>\n",
       "      <th>ETHNICITY</th>\n",
       "      <th>GENDER</th>\n",
       "      <th>CITY</th>\n",
       "      <th>STATE</th>\n",
       "      <th>COUNTY</th>\n",
       "      <th>ZIP</th>\n",
       "      <th>HEALTHCARE_EXPENSES</th>\n",
       "      <th>HEALTHCARE_COVERAGE</th>\n",
       "    </tr>\n",
       "  </thead>\n",
       "  <tbody>\n",
       "    <tr>\n",
       "      <th>0</th>\n",
       "      <td>2019-02-17</td>\n",
       "      <td>NaN</td>\n",
       "      <td>white</td>\n",
       "      <td>nonhispanic</td>\n",
       "      <td>M</td>\n",
       "      <td>Springfield</td>\n",
       "      <td>Massachusetts</td>\n",
       "      <td>Hampden County</td>\n",
       "      <td>1104.0</td>\n",
       "      <td>9039.1645</td>\n",
       "      <td>7964.1255</td>\n",
       "    </tr>\n",
       "    <tr>\n",
       "      <th>1</th>\n",
       "      <td>2005-07-04</td>\n",
       "      <td>NaN</td>\n",
       "      <td>white</td>\n",
       "      <td>nonhispanic</td>\n",
       "      <td>F</td>\n",
       "      <td>Bellingham</td>\n",
       "      <td>Massachusetts</td>\n",
       "      <td>Norfolk County</td>\n",
       "      <td>NaN</td>\n",
       "      <td>402723.4150</td>\n",
       "      <td>14064.1350</td>\n",
       "    </tr>\n",
       "    <tr>\n",
       "      <th>2</th>\n",
       "      <td>1998-05-11</td>\n",
       "      <td>NaN</td>\n",
       "      <td>white</td>\n",
       "      <td>nonhispanic</td>\n",
       "      <td>M</td>\n",
       "      <td>Boston</td>\n",
       "      <td>Massachusetts</td>\n",
       "      <td>Suffolk County</td>\n",
       "      <td>2131.0</td>\n",
       "      <td>571935.8725</td>\n",
       "      <td>787.5375</td>\n",
       "    </tr>\n",
       "    <tr>\n",
       "      <th>3</th>\n",
       "      <td>2003-01-28</td>\n",
       "      <td>NaN</td>\n",
       "      <td>white</td>\n",
       "      <td>nonhispanic</td>\n",
       "      <td>F</td>\n",
       "      <td>Hingham</td>\n",
       "      <td>Massachusetts</td>\n",
       "      <td>Plymouth County</td>\n",
       "      <td>2043.0</td>\n",
       "      <td>582557.8030</td>\n",
       "      <td>104782.2070</td>\n",
       "    </tr>\n",
       "    <tr>\n",
       "      <th>4</th>\n",
       "      <td>1993-12-23</td>\n",
       "      <td>M</td>\n",
       "      <td>black</td>\n",
       "      <td>nonhispanic</td>\n",
       "      <td>M</td>\n",
       "      <td>Revere</td>\n",
       "      <td>Massachusetts</td>\n",
       "      <td>Suffolk County</td>\n",
       "      <td>NaN</td>\n",
       "      <td>475826.8550</td>\n",
       "      <td>18067.0950</td>\n",
       "    </tr>\n",
       "  </tbody>\n",
       "</table>\n",
       "</div>"
      ],
      "text/plain": [
       "    BIRTHDATE MARITAL   RACE    ETHNICITY GENDER         CITY          STATE  \\\n",
       "0  2019-02-17     NaN  white  nonhispanic      M  Springfield  Massachusetts   \n",
       "1  2005-07-04     NaN  white  nonhispanic      F   Bellingham  Massachusetts   \n",
       "2  1998-05-11     NaN  white  nonhispanic      M       Boston  Massachusetts   \n",
       "3  2003-01-28     NaN  white  nonhispanic      F      Hingham  Massachusetts   \n",
       "4  1993-12-23       M  black  nonhispanic      M       Revere  Massachusetts   \n",
       "\n",
       "            COUNTY     ZIP  HEALTHCARE_EXPENSES  HEALTHCARE_COVERAGE  \n",
       "0   Hampden County  1104.0            9039.1645            7964.1255  \n",
       "1   Norfolk County     NaN          402723.4150           14064.1350  \n",
       "2   Suffolk County  2131.0          571935.8725             787.5375  \n",
       "3  Plymouth County  2043.0          582557.8030          104782.2070  \n",
       "4   Suffolk County     NaN          475826.8550           18067.0950  "
      ]
     },
     "execution_count": 27,
     "metadata": {},
     "output_type": "execute_result"
    }
   ],
   "source": [
    "data_deid = data.drop(columns=['Id', 'DEATHDATE', 'SSN', 'DRIVERS', 'PASSPORT', 'PREFIX', 'FIRST', 'LAST', 'SUFFIX', 'MAIDEN', 'BIRTHPLACE', 'ADDRESS', 'LAT', 'LON'])\n",
    "data_deid.head()"
   ]
  },
  {
   "cell_type": "code",
   "execution_count": 28,
   "id": "e5025f18-36fd-4c53-a888-7bae0397414d",
   "metadata": {},
   "outputs": [
    {
     "name": "stdout",
     "output_type": "stream",
     "text": [
      "299659\n",
      "1851\n",
      "1533\n",
      "1531\n"
     ]
    }
   ],
   "source": [
    "def linking_attack(cols):\n",
    "    data_linked = pd.merge(data_pii, data_deid, left_on=cols, right_on=cols)\n",
    "    return data_linked\n",
    "\n",
    "print(len(linking_attack(['ZIP'])))\n",
    "print(len(linking_attack(['BIRTHDATE'])))\n",
    "print(len(linking_attack(['ZIP', 'BIRTHDATE'])))\n",
    "print(len(linking_attack(['ZIP', 'BIRTHDATE', 'CITY'])))"
   ]
  },
  {
   "cell_type": "code",
   "execution_count": 29,
   "id": "290f34db-0453-4bba-b889-4a4192337628",
   "metadata": {},
   "outputs": [],
   "source": [
    "# 6. Clipping on expenses column"
   ]
  },
  {
   "cell_type": "code",
   "execution_count": 30,
   "id": "0604d6cf-5606-46c8-be2a-8c427de56ef2",
   "metadata": {},
   "outputs": [
    {
     "name": "stdout",
     "output_type": "stream",
     "text": [
      "2 2281.1018241717925\n",
      "4 4731.7271698252425\n",
      "8 9349.639898264573\n",
      "16 17937.599077407627\n",
      "32 36414.28685333451\n",
      "64 75131.44145293183\n",
      "128 149340.98883396373\n",
      "256 299272.23306028766\n",
      "512 609141.2531523996\n",
      "1024 1203625.858056843\n",
      "2048 2402970.7105649975\n",
      "4096 4601781.143014051\n",
      "8192 9893846.300425934\n",
      "16384 17949876.17923666\n",
      "32768 38060592.73075961\n",
      "65536 74423045.2952968\n",
      "131072 143169822.01451728\n",
      "262144 271312671.3447172\n",
      "524288 510129431.40824676\n",
      "1048576 911315926.2194884\n",
      "2097152 1422237471.205084\n",
      "4194304 1521220855.6136854\n",
      "8388608 1368851584.7319727\n",
      "16777216 1503159162.259734\n",
      "33554432 1402226750.906887\n"
     ]
    }
   ],
   "source": [
    "# TODO find way to automatically select clipping parameter b\n",
    "def find_b():\n",
    "    bs = range(1, 5000000, 100000)\n",
    "    epsilon_i = 1/len(bs)\n",
    "    for b in bs:\n",
    "        result = data['HEALTHCARE_EXPENSES'].clip(upper=b).sum()\n",
    "        dp_result = laplace_mech(result, sensitivity=b, epsilon=epsilon_i)\n",
    "        print(b, dp_result)\n",
    "\n",
    "def find_b_exp():\n",
    "    bs = [2**x for x in list(range(1, 26))]\n",
    "    epsilon_i = 1/len(bs)\n",
    "    for b in bs:\n",
    "        result = data['HEALTHCARE_EXPENSES'].clip(upper=b).sum()\n",
    "        dp_result = laplace_mech(result, sensitivity=b, epsilon=epsilon_i)\n",
    "        print(b, dp_result)\n",
    "        \n",
    "find_b_exp()"
   ]
  },
  {
   "cell_type": "code",
   "execution_count": 44,
   "id": "784c69ca-eb59-4f16-b1d3-f0fd60114f13",
   "metadata": {},
   "outputs": [
    {
     "name": "stdout",
     "output_type": "stream",
     "text": [
      "Average expenses with clipping: 1264450.9793286968\n",
      "Percent difference: 0.6529374563802481\n"
     ]
    }
   ],
   "source": [
    "def mean_expenses_clipping(epsilon):\n",
    "    df = data['HEALTHCARE_EXPENSES']\n",
    "    lower = 0\n",
    "    upper = 25000000\n",
    "\n",
    "    dp_sum = laplace_mech(df.clip(upper=upper).sum(), sensitivity=upper, epsilon=epsilon/2)\n",
    "    dp_count = laplace_mech(len(df), sensitivity=1, epsilon=epsilon/2)\n",
    "    return dp_sum/dp_count\n",
    "\n",
    "\n",
    "test_results = [mean_expenses_clipping(1.0) for i in range(100)]\n",
    "average_result = sum(test_results)/len(test_results)\n",
    "print(\"Average expenses with clipping:\", average_result)\n",
    "print(\"Percent difference:\", percent_difference(data['HEALTHCARE_EXPENSES'].mean(), average_result))"
   ]
  },
  {
   "cell_type": "code",
   "execution_count": 32,
   "id": "a0e0b138-8d1f-4858-9ffb-981ab0fb09f9",
   "metadata": {},
   "outputs": [],
   "source": [
    "# 7. Propose test release vs SAA for average"
   ]
  },
  {
   "cell_type": "code",
   "execution_count": 46,
   "id": "3070de6d-ec80-4e86-bc39-9c9e33924dc9",
   "metadata": {},
   "outputs": [
    {
     "name": "stdout",
     "output_type": "stream",
     "text": [
      "Average expenses with PTR: 12466.651589646093\n",
      "Percent difference: 99.00762850971945\n"
     ]
    }
   ],
   "source": [
    "# TODO fix with better value for s\n",
    "def ls_mean_at_distance(df, b, k):\n",
    "    n = len(df)\n",
    "    return b/(n - k)\n",
    "\n",
    "def dist_to_high_ls_mean(df, b, s):\n",
    "    k = 0\n",
    "    while ls_mean_at_distance(df, b, k) < s:\n",
    "        k += 1\n",
    "    return k\n",
    "\n",
    "def mean_expenses_ptr(s, epsilon, delta):\n",
    "    df = data['HEALTHCARE_EXPENSES']\n",
    "    lower = 0\n",
    "    upper = 25000000\n",
    "    \n",
    "    distance = dist_to_high_ls_mean(df, upper, s)\n",
    "    noisy_distance = laplace_mech(distance, sensitivity=1, epsilon=epsilon)\n",
    "    test_result = noisy_distance < np.log(2/delta)/(2*epsilon)\n",
    "    if test_result:\n",
    "        return False\n",
    "\n",
    "    result = df.clip(lower=0, upper=upper).mean()\n",
    "    return laplace_mech(result, sensitivity=s, epsilon=epsilon)\n",
    "\n",
    "test_results = [mean_expenses_ptr(10000, 1, 1e-5) for i in range(100)]\n",
    "average_result = sum(test_results)/len(test_results)\n",
    "print(\"Average expenses with PTR:\", average_result)\n",
    "print(\"Percent difference:\", percent_difference(data['HEALTHCARE_EXPENSES'].mean(), average_result))"
   ]
  },
  {
   "cell_type": "code",
   "execution_count": 34,
   "id": "823e6299-1199-4b91-92f4-8a7ecc32c7dc",
   "metadata": {},
   "outputs": [
    {
     "name": "stdout",
     "output_type": "stream",
     "text": [
      "Average expenses with SAA: 1216527.9622836728\n",
      "Percent difference: 3.1618347382007723\n"
     ]
    }
   ],
   "source": [
    "def f(chunk):\n",
    "    return chunk.mean()\n",
    "\n",
    "def mean_expenses_saa(k, epsilon):\n",
    "    df = data['HEALTHCARE_EXPENSES']\n",
    "    lower = 0\n",
    "    upper = 2900001\n",
    "    \n",
    "    chunks = np.array_split(df, k)\n",
    "    answers = [f(chunk) for chunk in chunks]\n",
    "    answers_clipped = pd.Series(answers).clip(lower=lower, upper=upper)\n",
    "    answers_clipped_avg = answers_clipped.mean()\n",
    "    return laplace_mech(answers_clipped_avg, sensitivity=upper/k, epsilon=epsilon)\n",
    "\n",
    "test_result = [mean_expenses_saa(20, 1.0) for i in range(100)]\n",
    "average_result = sum(test_results)/len(test_results)\n",
    "print(\"Average expenses with SAA:\", average_result)\n",
    "print(\"Percent difference:\", percent_difference(data['HEALTHCARE_EXPENSES'].mean(), average_result))"
   ]
  },
  {
   "cell_type": "code",
   "execution_count": 35,
   "id": "bd1ec231-332e-460e-b65c-89f362a4dc71",
   "metadata": {},
   "outputs": [],
   "source": [
    "# 8. Propose test release vs SAA for maximum"
   ]
  },
  {
   "cell_type": "code",
   "execution_count": 36,
   "id": "060af524-c391-42a0-9449-42b0b09aa8e1",
   "metadata": {},
   "outputs": [
    {
     "name": "stdout",
     "output_type": "stream",
     "text": [
      "Max expenses with PTR: 23116821.107847948\n",
      "Percent difference: 0.0011755597417354112\n"
     ]
    }
   ],
   "source": [
    "def ls_max_at_distance(k, sorted_expenses, expenses_lower):\n",
    "    if k < len(sorted_expenses):\n",
    "        return sorted_expenses.iloc[- (k+ 1)]\n",
    "    else:\n",
    "        return expenses_lower\n",
    "\n",
    "def dist_to_low_ls_max(s_p, sorted_expenses, lower):\n",
    "    k = 0\n",
    "    while ls_max_at_distance(k, sorted_expenses, lower) > s_p:\n",
    "        k += 1\n",
    "    return k\n",
    "    \n",
    "def max_expenses_ptr(s_p, epsilon, delta):\n",
    "    df = data['HEALTHCARE_EXPENSES']\n",
    "    lower = 0\n",
    "    upper = 25000000\n",
    "    sorted_expenses = df.clip(lower=lower, upper=upper).sort_values()\n",
    "    distance = dist_to_low_ls_max(s_p, sorted_expenses, lower)\n",
    "    noisy_distance = laplace_mech(distance, sensitivity=1, epsilon=epsilon)\n",
    "    test_result = noisy_distance < np.log(2/delta)/(2*epsilon)\n",
    "    if test_result:\n",
    "        return None\n",
    "        \n",
    "    result = df.clip(lower=lower, upper=upper).max()\n",
    "    return laplace_mech(result, sensitivity=s_p, epsilon=epsilon)\n",
    "    \n",
    "test_results = [max_expenses_ptr(10000, 1, 1e-5) for i in range(100)]\n",
    "average_result = sum(test_results)/len(test_results)\n",
    "print(\"Max expenses with PTR:\", average_result)\n",
    "print(\"Percent difference:\", percent_difference(data['HEALTHCARE_EXPENSES'].max(), average_result))"
   ]
  },
  {
   "cell_type": "code",
   "execution_count": 42,
   "id": "d4a3c185-17ad-4f18-8289-3f404eb6045b",
   "metadata": {},
   "outputs": [
    {
     "name": "stdout",
     "output_type": "stream",
     "text": [
      "Max expenses with SAA: 4849621.509347453\n",
      "Percent difference: 79.02099732086812\n"
     ]
    }
   ],
   "source": [
    "def f(chunk):\n",
    "    return chunk.max()\n",
    "\n",
    "def max_expenses_saa(k, epsilon):\n",
    "    df = data['HEALTHCARE_EXPENSES']\n",
    "    lower = 0\n",
    "    upper = 25000000\n",
    "    \n",
    "    chunks = np.array_split(df, k)\n",
    "    answers = [f(chunk) for chunk in chunks]\n",
    "    answers_clipped = pd.Series(answers).clip(lower=lower, upper=upper)\n",
    "    answers_avg = answers_clipped.mean()\n",
    "    return laplace_mech(answers_avg, sensitivity=upper/k, epsilon=epsilon)\n",
    "\n",
    "test_results = [max_expenses_saa(20, 1.0) for i in range(100)]\n",
    "average_result = sum(test_results)/len(test_results)\n",
    "print(\"Max expenses with SAA:\", average_result)\n",
    "print(\"Percent difference:\", percent_difference(data['HEALTHCARE_EXPENSES'].max(), average_result))"
   ]
  },
  {
   "cell_type": "code",
   "execution_count": null,
   "id": "fb02c619-fbbe-46c4-ad95-9bf18b26cd31",
   "metadata": {},
   "outputs": [],
   "source": []
  }
 ],
 "metadata": {
  "kernelspec": {
   "display_name": "Python 3 (ipykernel)",
   "language": "python",
   "name": "python3"
  },
  "language_info": {
   "codemirror_mode": {
    "name": "ipython",
    "version": 3
   },
   "file_extension": ".py",
   "mimetype": "text/x-python",
   "name": "python",
   "nbconvert_exporter": "python",
   "pygments_lexer": "ipython3",
   "version": "3.12.4"
  }
 },
 "nbformat": 4,
 "nbformat_minor": 5
}
